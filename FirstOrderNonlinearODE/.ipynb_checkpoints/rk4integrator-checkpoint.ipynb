{
 "cells": [
  {
   "cell_type": "code",
   "execution_count": 77,
   "metadata": {},
   "outputs": [],
   "source": [
    "%matplotlib inline\n",
    "import numpy as np\n",
    "import matplotlib.pyplot as plt"
   ]
  },
  {
   "cell_type": "code",
   "execution_count": 138,
   "metadata": {},
   "outputs": [],
   "source": [
    "def NonLinearODE(t, x):\n",
    "    # fun = 1.0 + 0.5 * np.cos(x)\n",
    "    # fun = np.exp(x) - np.cos(x)\n",
    "    # fun = 1.0 - 2.0 * np.cos(x)\n",
    "    dxdt = np.tan(x)\n",
    "    return dxdt"
   ]
  },
  {
   "cell_type": "code",
   "execution_count": 136,
   "metadata": {},
   "outputs": [
    {
     "data": {
      "text/plain": [
       "Text(0, 0.5, 'x')"
      ]
     },
     "execution_count": 136,
     "metadata": {},
     "output_type": "execute_result"
    },
    {
     "data": {
      "image/png": "[encoded data removed]",
      "text/plain": [
       "<Figure size 360x360 with 1 Axes>"
      ]
     },
     "metadata": {
      "needs_background": "light"
     },
     "output_type": "display_data"
    }
   ],
   "source": [
    "initial_conditions = np.pi / 4\n",
    "\n",
    "plt.figure(1, figsize=(5,5))\n",
    "\n",
    "dt = 0.01\n",
    "t = np.arange(0, 1.0, step=dt)\n",
    "x = np.zeros_like(t)\n",
    "x[0] = 1.0\n",
    "\n",
    "for i in range(len(t)-1):\n",
    "    k1 = NonlinearODE(i, x[i]);\n",
    "    k2 = NonlinearODE(i + 0.5*dt, x[i] + 0.5*k1); \n",
    "    k3 = NonlinearODE(i + 0.5*dt, x[i] + 0.5*k2);\n",
    "    k4 = NonlinearODE(i + dt, x[i] + k3);\n",
    "    x[i + 1]\n",
    "\n",
    "plt.xlabel(\"t\", size=16)\n",
    "plt.ylabel(\"x\", size=16)"
   ]
  },
  {
   "cell_type": "code",
   "execution_count": null,
   "metadata": {},
   "outputs": [],
   "source": []
  }
 ],
 "metadata": {
  "kernelspec": {
   "display_name": "Python 3",
   "language": "python",
   "name": "python3"
  },
  "language_info": {
   "codemirror_mode": {
    "name": "ipython",
    "version": 3
   },
   "file_extension": ".py",
   "mimetype": "text/x-python",
   "name": "python",
   "nbconvert_exporter": "python",
   "pygments_lexer": "ipython3",
   "version": "3.7.6"
  }
 },
 "nbformat": 4,
 "nbformat_minor": 4
}
